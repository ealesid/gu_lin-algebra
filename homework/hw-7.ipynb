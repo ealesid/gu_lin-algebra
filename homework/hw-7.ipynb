{
 "metadata": {
  "language_info": {
   "codemirror_mode": {
    "name": "ipython",
    "version": 3
   },
   "file_extension": ".py",
   "mimetype": "text/x-python",
   "name": "python",
   "nbconvert_exporter": "python",
   "pygments_lexer": "ipython3",
   "version": "3.7.2-final"
  },
  "orig_nbformat": 2,
  "kernelspec": {
   "name": "python37264bitvenvvirtualenv60d598f78ab94846be4acee9173792f0",
   "display_name": "Python 3.7.2 64-bit ('.venv': virtualenv)"
  }
 },
 "nbformat": 4,
 "nbformat_minor": 2,
 "cells": [
  {
   "cell_type": "code",
   "execution_count": 1,
   "metadata": {},
   "outputs": [],
   "source": [
    "import numpy as np"
   ]
  },
  {
   "source": [
    "__1.__ Решить систему уравнений методом Крамера:"
   ],
   "cell_type": "markdown",
   "metadata": {}
  },
  {
   "source": [
    "   а) $\\begin{cases}\n",
    "x_{1}-2x_{2}=1 \\\\\n",
    "3x_{1}-4x_{2}=7\n",
    "\\end{cases}$"
   ],
   "cell_type": "markdown",
   "metadata": {}
  },
  {
   "cell_type": "code",
   "execution_count": 2,
   "metadata": {},
   "outputs": [],
   "source": [
    "A = np.array([\n",
    "    [1, -2],\n",
    "    [3, -4]\n",
    "])\n",
    "A1 = np.array([\n",
    "    [1, -2],\n",
    "    [7, -4]\n",
    "])\n",
    "A2 = np.array([\n",
    "    [1, 1],\n",
    "    [3, 7]\n",
    "])\n"
   ]
  },
  {
   "cell_type": "code",
   "execution_count": 3,
   "metadata": {},
   "outputs": [
    {
     "output_type": "stream",
     "name": "stdout",
     "text": [
      "detA = 2.0\ndetA1 = 10.0\ndetA2 = 4.0\n"
     ]
    }
   ],
   "source": [
    "detA = float(f'{np.linalg.det(A):.2g}')\n",
    "detA1 = float(f'{np.linalg.det(A1):.2g}')\n",
    "detA2 = float(f'{np.linalg.det(A2):.2g}')\n",
    "\n",
    "print('detA =', detA)\n",
    "print('detA1 =', detA1)\n",
    "print('detA2 =', detA2)\n"
   ]
  },
  {
   "cell_type": "code",
   "execution_count": 4,
   "metadata": {},
   "outputs": [
    {
     "output_type": "stream",
     "name": "stdout",
     "text": [
      "x1 = 5.0\nx2 = 2.0\n"
     ]
    }
   ],
   "source": [
    "x1 = float(f'{detA1 / detA :.2g}')\n",
    "x2 = float(f'{detA2 / detA :.2g}')\n",
    "\n",
    "print('x1 =', x1)\n",
    "print('x2 =', x2)\n"
   ]
  },
  {
   "source": [
    "   б) $\\begin{cases}\n",
    "2x_{1}-x_{2}+5x_{3}=10 \\\\\n",
    "x_{1}+x_{2}-3x_{3}=-2 \\\\\n",
    "2x_{1}+4x_{2}+x_{3}=1\n",
    "\\end{cases}$"
   ],
   "cell_type": "markdown",
   "metadata": {}
  },
  {
   "cell_type": "code",
   "execution_count": 5,
   "metadata": {},
   "outputs": [],
   "source": [
    "A = np.array([\n",
    "    [2, -1, 5],\n",
    "    [1, 1, -3],\n",
    "    [2, 4, 1]\n",
    "])\n",
    "\n",
    "A1 = np.array([\n",
    "    [10, -1, 5],\n",
    "    [-2, 1, -3],\n",
    "    [1, 4, 1]\n",
    "])\n",
    "\n",
    "A2 = np.array([\n",
    "    [2, 10, 5],\n",
    "    [1, -2, -3],\n",
    "    [2, 1, 1]\n",
    "])\n",
    "\n",
    "A3 = np.array([\n",
    "    [2, -1, 10],\n",
    "    [1, 1, -2],\n",
    "    [2, 4, 1]\n",
    "])\n"
   ]
  },
  {
   "cell_type": "code",
   "execution_count": 6,
   "metadata": {},
   "outputs": [
    {
     "output_type": "stream",
     "name": "stdout",
     "text": [
      "detA = 43.0\ndetA1 = 86.0\ndetA2 = -43.0\ndetA3 = 43.0\n"
     ]
    }
   ],
   "source": [
    "detA = float(f'{np.linalg.det(A):.2g}')\n",
    "detA1 = float(f'{np.linalg.det(A1):.2g}')\n",
    "detA2 = float(f'{np.linalg.det(A2):.2g}')\n",
    "detA3 = float(f'{np.linalg.det(A3):.2g}')\n",
    "\n",
    "print('detA =', detA)\n",
    "print('detA1 =', detA1)\n",
    "print('detA2 =', detA2)\n",
    "print('detA3 =', detA3)\n"
   ]
  },
  {
   "cell_type": "code",
   "execution_count": 7,
   "metadata": {},
   "outputs": [
    {
     "output_type": "stream",
     "name": "stdout",
     "text": [
      "x1 = 2.0\nx2 = -1.0\nx3 = 1.0\n"
     ]
    }
   ],
   "source": [
    "x1 = float(f'{detA1 / detA :.2g}')\n",
    "x2 = float(f'{detA2 / detA :.2g}')\n",
    "x3 = float(f'{detA3 / detA :.2g}')\n",
    "\n",
    "print('x1 =', x1)\n",
    "print('x2 =', x2)\n",
    "print('x3 =', x3)\n"
   ]
  },
  {
   "source": [
    "__2*.__ Найти $L$-матрицу $LU$-разложения для матрицы коэффициентов:"
   ],
   "cell_type": "markdown",
   "metadata": {}
  },
  {
   "source": [
    "   а)$$\\begin{pmatrix}\n",
    "1 & 2 & 4 \\\\ \n",
    "2 & 9 & 12 \\\\ \n",
    "3 & 26 & 30\n",
    "\\end{pmatrix}$$\n",
    "\n",
    "1ю строку умножаем на 2 и вычитаем из 2й:\n",
    "\n",
    "$A =\n",
    "\\begin{pmatrix}\n",
    "1 & 2 & 4 \\\\\n",
    "0 & 5 & 4 \\\\\n",
    "3 & 26 & 30\n",
    "\\end{pmatrix}\n",
    "$\n",
    "\n",
    "$L =\n",
    "\\begin{pmatrix}\n",
    "1 & 0 & 0 \\\\\n",
    "2 & 1 & 0 \\\\\n",
    "l_{31} & l_{32} & 1\n",
    "\\end{pmatrix}\n",
    "$\n",
    "\n",
    "1ю строку умножаем на 3 и вычитаем из 3й:\n",
    "\n",
    "$A =\n",
    "\\begin{pmatrix}\n",
    "1 & 2 & 4 \\\\\n",
    "0 & 5 & 4 \\\\\n",
    "0 & 20 & 18\n",
    "\\end{pmatrix}\n",
    "$\n",
    "\n",
    "$L =\n",
    "\\begin{pmatrix}\n",
    "1 & 0 & 0 \\\\\n",
    "2 & 1 & 0 \\\\\n",
    "3 & l_{32} & 1\n",
    "\\end{pmatrix}\n",
    "$\n",
    "\n",
    "2ю строку умножаем на 4 и вычитаем из 3й:\n",
    "\n",
    "$A =\n",
    "\\begin{pmatrix}\n",
    "1 & 2 & 4 \\\\\n",
    "0 & 5 & 4 \\\\\n",
    "0 & 0 & 2\n",
    "\\end{pmatrix}\n",
    "$\n",
    "\n",
    "$L =\n",
    "\\begin{pmatrix}\n",
    "1 & 0 & 0 \\\\\n",
    "2 & 1 & 0 \\\\\n",
    "3 & 4 & 1\n",
    "\\end{pmatrix}\n",
    "$"
   ],
   "cell_type": "markdown",
   "metadata": {}
  },
  {
   "source": [
    "   б)$$\\begin{pmatrix}\n",
    "1 & 1 & 2 & 4\\\\ \n",
    "2 & 5 & 8 & 9\\\\ \n",
    "3 & 18 & 29 & 18\\\\\n",
    "4 & 22 & 53 & 33\n",
    "\\end{pmatrix}$$"
   ],
   "cell_type": "markdown",
   "metadata": {}
  },
  {
   "source": [
    "1ю строку умножаем на 2 и вычитаем из 2й:\n",
    "\n",
    "$A =\n",
    "\\begin{pmatrix}\n",
    "1 & 1 & 2 & 4 \\\\\n",
    "0 & 3 & 4 & 1 \\\\\n",
    "3 & 18 & 29 & 18 \\\\\n",
    "4 & 22 & 53 & 33\n",
    "\\end{pmatrix}$\n",
    "\n",
    "$L =\n",
    "\\begin{pmatrix}\n",
    "1 & 0 & 0 & 0 \\\\\n",
    "2 & 1 & 0 & 0 \\\\\n",
    "l_{31} & l_{32} & 1 & 0 \\\\\n",
    "l_{41} & l_{42} & l_{43} & 1\n",
    "\\end{pmatrix}\n",
    "$\n",
    "\n",
    "1ю строку умножаем на 3 и вычитаем из 3й:\n",
    "\n",
    "$A =\n",
    "\\begin{pmatrix}\n",
    "1 & 1 & 2 & 4 \\\\\n",
    "0 & 3 & 4 & 1 \\\\\n",
    "0 & 15 & 23 & 6 \\\\\n",
    "4 & 22 & 53 & 33\n",
    "\\end{pmatrix}$\n",
    "\n",
    "$L =\n",
    "\\begin{pmatrix}\n",
    "1 & 0 & 0 & 0 \\\\\n",
    "2 & 1 & 0 & 0 \\\\\n",
    "3 & l_{32} & 1 & 0 \\\\\n",
    "l_{41} & l_{42} & l_{43} & 1\n",
    "\\end{pmatrix}\n",
    "$\n",
    "\n",
    "1ю строку умножаем на 4 и вычитаем из 4й:\n",
    "\n",
    "$A =\n",
    "\\begin{pmatrix}\n",
    "1 & 1 & 2 & 4 \\\\\n",
    "0 & 3 & 4 & 1 \\\\\n",
    "0 & 15 & 23 & 6 \\\\\n",
    "0 & 18 & 45 & 17\n",
    "\\end{pmatrix}$\n",
    "\n",
    "$L =\n",
    "\\begin{pmatrix}\n",
    "1 & 0 & 0 & 0 \\\\\n",
    "2 & 1 & 0 & 0 \\\\\n",
    "3 & l_{32} & 1 & 0 \\\\\n",
    "4 & l_{42} & l_{43} & 1\n",
    "\\end{pmatrix}\n",
    "$\n",
    "\n",
    "2ю строку умножаем на 5 и вычитаем из 3й:\n",
    "\n",
    "$A =\n",
    "\\begin{pmatrix}\n",
    "1 & 1 & 2 & 4 \\\\\n",
    "0 & 3 & 4 & 1 \\\\\n",
    "0 & 0 & 3 & 1 \\\\\n",
    "0 & 18 & 45 & 17\n",
    "\\end{pmatrix}$\n",
    "\n",
    "$L =\n",
    "\\begin{pmatrix}\n",
    "1 & 0 & 0 & 0 \\\\\n",
    "2 & 1 & 0 & 0 \\\\\n",
    "3 & 5 & 1 & 0 \\\\\n",
    "4 & l_{42} & l_{43} & 1\n",
    "\\end{pmatrix}\n",
    "$\n",
    "\n",
    "2ю строку умножаем на 6 и вычитаем из 4й:\n",
    "\n",
    "$A =\n",
    "\\begin{pmatrix}\n",
    "1 & 1 & 2 & 4 \\\\\n",
    "0 & 3 & 4 & 1 \\\\\n",
    "0 & 0 & 3 & 1 \\\\\n",
    "0 & 0 & 21 & 11\n",
    "\\end{pmatrix}$\n",
    "\n",
    "$L =\n",
    "\\begin{pmatrix}\n",
    "1 & 0 & 0 & 0 \\\\\n",
    "2 & 1 & 0 & 0 \\\\\n",
    "3 & 5 & 1 & 0 \\\\\n",
    "4 & 6 & l_{43} & 1\n",
    "\\end{pmatrix}\n",
    "$\n",
    "\n",
    "3ю строку умножаем на 7 и вычитаем из 4й:\n",
    "\n",
    "$A =\n",
    "\\begin{pmatrix}\n",
    "1 & 1 & 2 & 4 \\\\\n",
    "0 & 3 & 4 & 1 \\\\\n",
    "0 & 0 & 3 & 1 \\\\\n",
    "0 & 0 & 0 & 4\n",
    "\\end{pmatrix}$\n",
    "\n",
    "$L =\n",
    "\\begin{pmatrix}\n",
    "1 & 0 & 0 & 0 \\\\\n",
    "2 & 1 & 0 & 0 \\\\\n",
    "3 & 5 & 1 & 0 \\\\\n",
    "4 & 6 & 7 & 1\n",
    "\\end{pmatrix}\n",
    "$"
   ],
   "cell_type": "markdown",
   "metadata": {}
  },
  {
   "source": [
    "__3*.__ Решить систему линейных уравнений методом $LU$-разложения\n",
    "\n",
    "$$\\begin{cases}2x_{1}+x_{2}+3x_{3}=1 \\\\ 11x_{1}+7x_{2}+5x_{3}=-6 \\\\ 9x_{1}+8x_{2}+4x_{3}=-5\\end{cases}$$"
   ],
   "cell_type": "markdown",
   "metadata": {}
  },
  {
   "source": [
    "$A =\n",
    "\\begin{pmatrix}\n",
    "2 & 1 & 3 \\\\\n",
    "11 & 7 & 5 \\\\\n",
    "9 & 8 & 4\n",
    "\\end{pmatrix}$\n",
    "\n",
    "1ю строку умножаем на 5.5 и вычитаем из 2й:\n",
    "\n",
    "$A =\n",
    "\\begin{pmatrix}\n",
    "2 & 1 & 3 \\\\\n",
    "0 & 1.5 & -11.5 \\\\\n",
    "9 & 8 & 4\n",
    "\\end{pmatrix}$\n",
    "\n",
    "$L =\n",
    "\\begin{pmatrix}\n",
    "1 & 0 & 0 \\\\\n",
    "5.5 & 1 & 0 \\\\\n",
    "l_{31} & l_{32} & 1\n",
    "\\end{pmatrix}$\n",
    "\n",
    "1ю строку умножаем на 4.5 и вычитаем из 3й:\n",
    "\n",
    "$A =\n",
    "\\begin{pmatrix}\n",
    "2 & 1 & 3 \\\\\n",
    "0 & 1.5 & -11.5 \\\\\n",
    "0 & 3.5 & -9.5\n",
    "\\end{pmatrix}$\n",
    "\n",
    "$L =\n",
    "\\begin{pmatrix}\n",
    "1 & 0 & 0 \\\\\n",
    "5.5 & 1 & 0 \\\\\n",
    "4.5 & l_{32} & 1\n",
    "\\end{pmatrix}$\n",
    "\n",
    "2ю строку умножаем на 7/3 и вычитаем из 3й:\n",
    "\n",
    "$A =\n",
    "\\begin{pmatrix}\n",
    "2 & 1 & 3 \\\\\n",
    "0 & 1.5 & -11.5 \\\\\n",
    "0 & 0 & -\\frac{109}{3}\n",
    "\\end{pmatrix}$\n",
    "\n",
    "$L =\n",
    "\\begin{pmatrix}\n",
    "1 & 0 & 0 \\\\\n",
    "5.5 & 1 & 0 \\\\\n",
    "4.5 & \\frac{7}{3} & 1\n",
    "\\end{pmatrix}$\n"
   ],
   "cell_type": "markdown",
   "metadata": {}
  },
  {
   "source": [
    "Решаем систему уравнений:\n",
    "\n",
    "$\\begin{cases}\n",
    "y_{1} = 1 \\\\\n",
    "5.5y_{1} + y_{2} = -6 \\\\\n",
    "4.5y_{1} + \\frac{7}{3}y_{2} + y_{3} = -5\n",
    "\\end{cases}$\n",
    "\n",
    "$\n",
    "y_{1} = 1 \\\\\n",
    "y_{2} = -11.5 \\\\\n",
    "y_{3} = -\\frac{41}{6}\n",
    "$"
   ],
   "cell_type": "markdown",
   "metadata": {}
  },
  {
   "source": [
    "Решаем систему уравнений:\n",
    "\n",
    "$\\begin{cases}\n",
    "2x_{1} + x_{2} + 3x_{3} = 1 \\\\\n",
    "1.5x_{2} -11.5x_{3} = -11.5 \\\\\n",
    "-\\frac{109}{3}x_{3} = -\\frac{41}{6}\n",
    "\\end{cases}$\n",
    "\n",
    "$\n",
    "x_{3} = \\frac{41}{218} \\\\\n",
    "x_{2} = \\frac{1357}{218} \\\\\n",
    "x_{1} = -\\frac{1262}{218}\n",
    "$"
   ],
   "cell_type": "markdown",
   "metadata": {}
  },
  {
   "source": [
    "И где-то закралась ошибка - проверка в исходной системе не выполняется."
   ],
   "cell_type": "markdown",
   "metadata": {}
  },
  {
   "cell_type": "code",
   "execution_count": 8,
   "metadata": {},
   "outputs": [],
   "source": [
    "# Методом Крамера:\n",
    "\n",
    "A = np.array([\n",
    "    [2, 1, 3],\n",
    "    [11, 7, 5],\n",
    "    [9, 8, 4]\n",
    "])\n",
    "\n",
    "L = np.array([\n",
    "    [1, 0, 0],\n",
    "    [5.5, 1, 0],\n",
    "    [4.5, 7/3, 1]\n",
    "])\n",
    "\n",
    "A1 = np.array([\n",
    "    [1, 1, 3],\n",
    "    [-6, 7, 5],\n",
    "    [-5, 8, 4]\n",
    "])\n",
    "\n",
    "A2 = np.array([\n",
    "    [2, 1, 3],\n",
    "    [11, -6, 5],\n",
    "    [9, -5, 4]\n",
    "])\n",
    "\n",
    "A3 = np.array([\n",
    "    [2, 1, 1],\n",
    "    [11, 7, -6],\n",
    "    [9, 8, -5]\n",
    "])\n",
    "\n",
    "\n",
    "\n"
   ]
  },
  {
   "cell_type": "code",
   "execution_count": 9,
   "metadata": {},
   "outputs": [
    {
     "output_type": "stream",
     "name": "stdout",
     "text": [
      "detA = 52.0\ndetA1 = -52.0\ndetA2 = 0.0\ndetA3 = 52.0\n"
     ]
    }
   ],
   "source": [
    "detA = float(f'{np.linalg.det(A):.2g}')\n",
    "detA1 = float(f'{np.linalg.det(A1):.2g}')\n",
    "detA2 = float(f'{np.linalg.det(A2):.2g}')\n",
    "detA3 = float(f'{np.linalg.det(A3):.2g}')\n",
    "\n",
    "print('detA =', detA)\n",
    "print('detA1 =', detA1)\n",
    "print('detA2 =', detA2)\n",
    "print('detA3 =', detA3)\n"
   ]
  },
  {
   "cell_type": "code",
   "execution_count": 10,
   "metadata": {},
   "outputs": [
    {
     "output_type": "stream",
     "name": "stdout",
     "text": [
      "x1 = -1.0\nx2 = 0.0\nx3 = 1.0\n"
     ]
    }
   ],
   "source": [
    "x1 = float(f'{detA1 / detA :.2g}')\n",
    "x2 = float(f'{detA2 / detA :.2g}')\n",
    "x3 = float(f'{detA3 / detA :.2g}')\n",
    "\n",
    "print('x1 =', x1)\n",
    "print('x2 =', x2)\n",
    "print('x3 =', x3)\n"
   ]
  },
  {
   "source": [
    "__4*.__ Решить систему линейных уравнений методом Холецкого\n",
    "\n",
    "$$\\begin{cases}81x_{1}-45x_{2}+45x_{3}=531 \\\\ -45x_{1}+50x_{2}-15x_{3}=-460 \\\\45x_{1}-15x_{2}+38x_{3}=193\\end{cases}$$"
   ],
   "cell_type": "markdown",
   "metadata": {}
  },
  {
   "source": [
    "__5*.__ Написать на Python программу с реализацией одного из изученных алгоритмов решения СЛАУ."
   ],
   "cell_type": "markdown",
   "metadata": {}
  },
  {
   "cell_type": "code",
   "execution_count": null,
   "metadata": {},
   "outputs": [],
   "source": []
  }
 ]
}