{
 "metadata": {
  "language_info": {
   "codemirror_mode": {
    "name": "ipython",
    "version": 3
   },
   "file_extension": ".py",
   "mimetype": "text/x-python",
   "name": "python",
   "nbconvert_exporter": "python",
   "pygments_lexer": "ipython3",
   "version": "3.7.2-final"
  },
  "orig_nbformat": 2,
  "kernelspec": {
   "name": "Python 3.7.2 64-bit ('.venv')",
   "display_name": "Python 3.7.2 64-bit ('.venv')",
   "metadata": {
    "interpreter": {
     "hash": "eb492f6c263ababaffaa4e2285f17835a13bbc2581d45c8d0dddeea0e971cee8"
    }
   }
  }
 },
 "nbformat": 4,
 "nbformat_minor": 2,
 "cells": [
  {
   "cell_type": "code",
   "execution_count": 1,
   "metadata": {},
   "outputs": [],
   "source": [
    "import numpy as np"
   ]
  },
  {
   "source": [
    "__1.__ Найти скалярное произведение векторов $x, y \\in \\mathbb{R}$:<br>\n",
    "а) $x=(0,-3, 6),~y=(-4, 7, 9);$\n",
    "\n",
    "Ответ: $(x,y) = 0 * -4 + -3 * 7 + 6 * 9 = 33$\n"
   ],
   "cell_type": "markdown",
   "metadata": {}
  },
  {
   "cell_type": "code",
   "execution_count": 2,
   "metadata": {},
   "outputs": [
    {
     "output_type": "stream",
     "name": "stdout",
     "text": [
      "Result (x, y) is: 33\n"
     ]
    }
   ],
   "source": [
    "x = np.array([0, -3, 6])\n",
    "y = np.array([-4, 7, 9])\n",
    "print(\"Result (x, y) is:\", np.dot(x, y))\n"
   ]
  },
  {
   "source": [
    "б) $x=(7, -4, 0, 1),~y=(-3, 1, 11, 2).$\n",
    "\n",
    "Ответ: $(x,y) = 7 * -3 + -4 * 1 + 0 * 11 + 1 * 2 = -23$"
   ],
   "cell_type": "markdown",
   "metadata": {}
  },
  {
   "cell_type": "code",
   "execution_count": 3,
   "metadata": {},
   "outputs": [
    {
     "output_type": "stream",
     "name": "stdout",
     "text": [
      "Result (x, y) is: -23\n"
     ]
    }
   ],
   "source": [
    "x = np.array([7, -4, 0, 1])\n",
    "y = np.array([-3, 1, 11, 2])\n",
    "print(\"Result (x, y) is:\", np.dot(x, y))"
   ]
  },
  {
   "source": [
    "__2.__ Найти нормы векторов $(4, 2, 4)$ и $(12, 3, 4)$ и угол между ними.\n",
    "\n",
    "$\\left\\|x\\right\\|_{1} = |4|+|2|+|4|=10$ \n",
    "\n",
    "$\\left\\|x\\right\\|_{2} = \\sqrt{4^{2}+2^{2}+4^{2}}=\\sqrt{36}=6$\n",
    "\n",
    "$\\left\\|y\\right\\|_{1} = |12|+|3|+|4|=19$ \n",
    "\n",
    "$\\left\\|y\\right\\|_{2} = \\sqrt{12^{2}+3^{2}+4^{2}}=\\sqrt{169}=13$"
   ],
   "cell_type": "markdown",
   "metadata": {}
  },
  {
   "cell_type": "code",
   "execution_count": 4,
   "metadata": {},
   "outputs": [],
   "source": [
    "x = np.array([4, 2, 4])\n",
    "y = np.array([12, 3, 4])\n"
   ]
  },
  {
   "cell_type": "code",
   "execution_count": 5,
   "metadata": {},
   "outputs": [
    {
     "output_type": "stream",
     "name": "stdout",
     "text": [
      "norm1 x: 10.0\nnorm2 x: 6.0\nnorm1 y: 19.0\nnorm2 y: 13.0\ncos_phi: 0.8974358974358975\n"
     ]
    }
   ],
   "source": [
    "print(\"norm1 x:\", np.linalg.norm(x, ord=1))\n",
    "print(\"norm2 x:\", np.linalg.norm(x))\n",
    "print(\"norm1 y:\", np.linalg.norm(y, ord=1))\n",
    "print(\"norm2 y:\", np.linalg.norm(y))\n",
    "print(\"cos_phi:\", np.dot(x, y) / (np.linalg.norm(x) * np.linalg.norm(y)))\n"
   ]
  },
  {
   "cell_type": "code",
   "execution_count": null,
   "metadata": {},
   "outputs": [],
   "source": []
  }
 ]
}