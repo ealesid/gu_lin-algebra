{
 "metadata": {
  "language_info": {
   "codemirror_mode": {
    "name": "ipython",
    "version": 3
   },
   "file_extension": ".py",
   "mimetype": "text/x-python",
   "name": "python",
   "nbconvert_exporter": "python",
   "pygments_lexer": "ipython3",
   "version": "3.7.2-final"
  },
  "orig_nbformat": 2,
  "kernelspec": {
   "name": "python37264bitvenvvirtualenv50c87fc0545744c9b271e5181bbfb5e5",
   "display_name": "Python 3.7.2 64-bit ('.venv': virtualenv)"
  }
 },
 "nbformat": 4,
 "nbformat_minor": 2,
 "cells": [
  {
   "cell_type": "code",
   "execution_count": 1,
   "metadata": {},
   "outputs": [],
   "source": [
    "import numpy as np"
   ]
  },
  {
   "source": [
    "__1.__ Вычислить определитель:\n",
    "\n",
    "   a)\n",
    "\n",
    "$\\begin{vmatrix} \n",
    "sinx & -cosx \\\\ \n",
    "cosx & sinx \n",
    "\\end{vmatrix}$\n",
    "\n",
    "Ответ: $det = sin^{2}x + cos^{2}x = 1$"
   ],
   "cell_type": "markdown",
   "metadata": {}
  },
  {
   "source": [
    "   б)\n",
    "    \n",
    "$ \\begin{vmatrix}\n",
    "4 & 2 & 3\\\\\n",
    "0 & 5 & 1 \\\\\n",
    "0 & 0 & 9\n",
    " \\end{vmatrix}$\n",
    "\n",
    " Ответ: $det = \n",
    " 4 \\begin{vmatrix}5&1\\\\0&9\\end{vmatrix} \n",
    " -2 \\begin{vmatrix}0&1\\\\0&9 \\end{vmatrix}\n",
    " +3\\begin{vmatrix}0&5\\\\0&0 \\end{vmatrix}\n",
    " $ = 180"
   ],
   "cell_type": "markdown",
   "metadata": {}
  },
  {
   "cell_type": "code",
   "execution_count": 2,
   "metadata": {},
   "outputs": [
    {
     "output_type": "stream",
     "name": "stdout",
     "text": [
      "detA =  180.0\n"
     ]
    }
   ],
   "source": [
    "A = np.array([\n",
    "    [4, 2, 3],\n",
    "    [0, 5, 1],\n",
    "    [0, 0, 9]\n",
    "])\n",
    "print('detA = ', np.linalg.det(A))"
   ]
  },
  {
   "source": [
    "   в)\n",
    "    \n",
    "$ \\begin{vmatrix}\n",
    "1 & 2 & 3\\\\\n",
    "4 & 5 & 6 \\\\\n",
    "7 & 8 & 9\n",
    " \\end{vmatrix}$\n",
    "\n",
    " Ответ: $det = \n",
    " 1 \\begin{vmatrix}5&6\\\\8&9\\end{vmatrix} \n",
    " -2 \\begin{vmatrix}4&6\\\\7&9 \\end{vmatrix}\n",
    " +3\\begin{vmatrix}4&5\\\\7&8 \\end{vmatrix}\n",
    " $ = -3 + 12 - 9 = 0"
   ],
   "cell_type": "markdown",
   "metadata": {}
  },
  {
   "cell_type": "code",
   "execution_count": 3,
   "metadata": {},
   "outputs": [
    {
     "output_type": "stream",
     "name": "stdout",
     "text": [
      "detA =  0.0\n"
     ]
    }
   ],
   "source": [
    "A = np.array([\n",
    "    [1, 2, 3],\n",
    "    [4, 5, 6],\n",
    "    [7, 8, 9]\n",
    "])\n",
    "print('detA = ', np.linalg.det(A))"
   ]
  },
  {
   "source": [
    "__2.__ Определитель матрицы $A$ равен $4$. Найти:\n",
    "\n",
    "   а) $det(A^{2}) = detA \\cdot detA = 4 \\cdot 4 = 16$;\n",
    "    \n",
    "   б) $det(A^{T})$ = detA = 4;\n",
    "    \n",
    "   в) $det(2A)$. - Тут видимо должно быть $4 \\cdot 2^{rowsA}$ ??"
   ],
   "cell_type": "markdown",
   "metadata": {}
  },
  {
   "source": [
    "__3.__  Доказать, что матрица\n",
    "\n",
    "$\\begin{pmatrix} \n",
    "-2 & 7 & -3 \\\\ \n",
    "4 & -14 & 6 \\\\ \n",
    "-3 & 7 & 13 \n",
    "\\end{pmatrix}$\n",
    "\n",
    "   \n",
    "вырожденная.\n",
    "\n",
    "Ответ: $\n",
    "det = \n",
    "-2\\begin{vmatrix}-14&6\\\\7&13 \\end{vmatrix} \n",
    "-7\\begin{vmatrix}4&6\\\\-3&13 \\end{vmatrix}\n",
    "-3\\begin{vmatrix} 4&-14\\\\-3&7\\end{vmatrix}\n",
    "= 448 - 490 + 42 = 0\n",
    "$"
   ],
   "cell_type": "markdown",
   "metadata": {}
  },
  {
   "cell_type": "code",
   "execution_count": 4,
   "metadata": {},
   "outputs": [
    {
     "output_type": "stream",
     "name": "stdout",
     "text": [
      "detA = 0.0\n"
     ]
    }
   ],
   "source": [
    "A = np.array([\n",
    "    [-2, 7, -3],\n",
    "    [4, -14, 6],\n",
    "    [-3, 7, 13]\n",
    "])\n",
    "print('detA =', np.linalg.det(A))"
   ]
  },
  {
   "source": [
    "__4.__ Найти ранг матрицы:\n",
    "\n",
    "а) $\\begin{pmatrix}\n",
    "1 & 2 & 3\\\\ \n",
    "1 & 1 & 1\\\\ \n",
    "2 & 3 & 4\n",
    "\\end{pmatrix}$\n",
    "\n",
    "Отбрасываем 3ю строку (сумма 1й и 2й) и из 1й вычитаем 2ю\n",
    "$\\begin{pmatrix}\n",
    "0&1&2\\\\\n",
    "1&1&1\n",
    "\\end{pmatrix}$\n",
    "и меняем их местами \n",
    "$\\begin{pmatrix}\n",
    "1&1&1\\\\\n",
    "0&1&2\n",
    "\\end{pmatrix}$.\n",
    "\n",
    "Ранг матрицы равен 2.\n",
    "\n"
   ],
   "cell_type": "markdown",
   "metadata": {}
  },
  {
   "cell_type": "code",
   "execution_count": 5,
   "metadata": {},
   "outputs": [
    {
     "output_type": "stream",
     "name": "stdout",
     "text": [
      "rank A = 2\n"
     ]
    }
   ],
   "source": [
    "A = np.array([\n",
    "    [1, 2, 3],\n",
    "    [1, 1, 1],\n",
    "    [2, 3, 4],\n",
    "])\n",
    "print('rank A =', np.linalg.matrix_rank(A))"
   ]
  },
  {
   "source": [
    "б) $\\begin{pmatrix}\n",
    "0 & 0 & 2 & 1\\\\ \n",
    "0 & 0 & 2 & 2\\\\ \n",
    "0 & 0 & 4 & 3\\\\ \n",
    "2 & 3 & 5 & 6\n",
    "\\end{pmatrix}$\n",
    "\n",
    "Отбрасываем 3ю строку (сумма 1й и 2й) и из 2й вычитаем 1ю\n",
    "$\\begin{pmatrix}\n",
    "0&0&2&1\\\\\n",
    "0&0&0&1\\\\\n",
    "2&3&5&6\n",
    "\\end{pmatrix}$.\n",
    "\n",
    "Ранг матрицы равен 3."
   ],
   "cell_type": "markdown",
   "metadata": {}
  },
  {
   "cell_type": "code",
   "execution_count": 6,
   "metadata": {},
   "outputs": [
    {
     "output_type": "stream",
     "name": "stdout",
     "text": [
      "rank A = 3\n"
     ]
    }
   ],
   "source": [
    "A = np.array([\n",
    "    [0, 0, 2, 1],\n",
    "    [0, 0, 2, 2],\n",
    "    [0, 0, 4, 3],\n",
    "    [2, 3, 5, 6],\n",
    "])\n",
    "print('rank A =', np.linalg.matrix_rank(A))"
   ]
  }
 ]
}