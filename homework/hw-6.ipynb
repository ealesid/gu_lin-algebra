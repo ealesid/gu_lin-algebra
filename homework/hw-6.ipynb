{
 "metadata": {
  "language_info": {
   "codemirror_mode": {
    "name": "ipython",
    "version": 3
   },
   "file_extension": ".py",
   "mimetype": "text/x-python",
   "name": "python",
   "nbconvert_exporter": "python",
   "pygments_lexer": "ipython3",
   "version": "3.7.2-final"
  },
  "orig_nbformat": 2,
  "kernelspec": {
   "name": "python37264bitvenvvirtualenv60d598f78ab94846be4acee9173792f0",
   "display_name": "Python 3.7.2 64-bit ('.venv': virtualenv)"
  }
 },
 "nbformat": 4,
 "nbformat_minor": 2,
 "cells": [
  {
   "cell_type": "code",
   "execution_count": 1,
   "metadata": {},
   "outputs": [],
   "source": [
    "import numpy as np"
   ]
  },
  {
   "source": [
    "__1.__ Решить систему уравнений методом Гаусса:\n",
    "\n",
    "$$\\begin{cases} x_{1}+x_{2}-x_{3}-2x_{4}=0, \\\\ 2x_{1}+x_{2}-x_{3}+x_{4}=-2, \\\\ x_{1}+x_{2}-3x_{3}+x_{4}=4.\\end{cases}$$\n",
    "\n",
    "Расширенная матрица:\n",
    "\n",
    "$\\begin{pmatrix}\n",
    "\\begin{matrix}\n",
    "1 & 1 & -1 & -2 | \\\\\n",
    "2 & 1 & -1 & 1  | \\\\\n",
    "1 & 1 & -3 & 1  |\n",
    "\\end{matrix}\n",
    "\\begin{matrix}\n",
    "0 \\\\ -2 \\\\ 4\n",
    "\\end{matrix}\n",
    "\\end{pmatrix}$\n",
    "\n",
    "Вычтем из 2й строки 1ю, умноженную на 2:\n",
    "\n",
    "$\\begin{pmatrix}\n",
    "\\begin{matrix}\n",
    "1 & 1 & -1 & -2 | \\\\\n",
    "0 & -1 & -3 & -3  | \\\\\n",
    "1 & 1 & -3 & 1  |\n",
    "\\end{matrix}\n",
    "\\begin{matrix}\n",
    "0 \\\\ -2 \\\\ 4\n",
    "\\end{matrix}\n",
    "\\end{pmatrix}$\n",
    "\n",
    "Вычтем из 3й строки 1ю:\n",
    "\n",
    "$\\begin{pmatrix}\n",
    "\\begin{matrix}\n",
    "1 & 1 & -1 & -2 | \\\\\n",
    "0 & -1 & -3 & -3  | \\\\\n",
    "0 & 0 & -4 & -1  |\n",
    "\\end{matrix}\n",
    "\\begin{matrix}\n",
    "0 \\\\ -2 \\\\ 4\n",
    "\\end{matrix}\n",
    "\\end{pmatrix}$\n",
    "\n",
    "Оставшаяся матрица соответствует системе уравнений:\n",
    "\n",
    "$\\begin{cases}\n",
    "x_{1} + x_{2} - x_{3} -2x_{4} = 0 \\\\\n",
    "-x_{2} -3x_{3} -3x_{4} = -2 \\\\\n",
    "-4x_{3} - x_{4} = 4\n",
    "\\end{cases}$\n",
    "\n",
    "В виде общего решения:\n",
    "\n",
    "$x_{4} = c \\\\\n",
    "x_{3} = -\\frac{c}{4} -1 \\\\\n",
    "x_{2} = 5- 3c + \\frac{3c}{4} \\\\\n",
    "x_{1} = 4c -6\n",
    "$"
   ],
   "cell_type": "markdown",
   "metadata": {}
  },
  {
   "source": [
    "__2.__ Проверить на совместность и выяснить, сколько решений будет иметь система линейных уравнений:"
   ],
   "cell_type": "markdown",
   "metadata": {}
  },
  {
   "source": [
    "а) $\\begin{cases}\n",
    "3x_{1}-x_{2}+x_{3}=4, \\\\\n",
    "2x_{1}-5x_{2}-3x_{3}=-17, \\\\\n",
    "x_{1}+x_{2}-x_{3}=0;\n",
    "\\end{cases}$\n"
   ],
   "cell_type": "markdown",
   "metadata": {}
  },
  {
   "cell_type": "code",
   "execution_count": 2,
   "metadata": {},
   "outputs": [
    {
     "output_type": "stream",
     "name": "stdout",
     "text": [
      "detA = 32.0\n"
     ]
    }
   ],
   "source": [
    "A = np.array([\n",
    "    [3, -1, 1],\n",
    "    [2, -5, -3],\n",
    "    [1, 1, -1]\n",
    "])\n",
    "\n",
    "print('detA =', np.linalg.det(A))"
   ]
  },
  {
   "source": [
    "Определитель матрицы $\\neq 0$ и число уравнений равно числу неизвестных $\\Rightarrow$ система совместная и имеет единственное решение."
   ],
   "cell_type": "markdown",
   "metadata": {}
  },
  {
   "source": [
    "   б) $\\begin{cases}\n",
    "2x_{1}-4x_{2}+6x_{3}=1, \\\\\n",
    "x_{1}-2x_{2}+3x_{3}=-2, \\\\\n",
    "3x_{1}-6x_{2}+9x_{3}=5;\n",
    "\\end{cases}$"
   ],
   "cell_type": "markdown",
   "metadata": {}
  },
  {
   "cell_type": "code",
   "execution_count": 3,
   "metadata": {},
   "outputs": [
    {
     "output_type": "stream",
     "name": "stdout",
     "text": [
      "detA = 0.0\n"
     ]
    }
   ],
   "source": [
    "A = np.array([\n",
    "    [2, -4, 6],\n",
    "    [1, -2, 3],\n",
    "    [3, -6, 9]\n",
    "])\n",
    "\n",
    "print('detA =', np.linalg.det(A))"
   ]
  },
  {
   "source": [
    "Определитель матрицы равен 0 $\\Rightarrow$ система несовместная."
   ],
   "cell_type": "markdown",
   "metadata": {}
  },
  {
   "source": [
    "   в) $\\begin{cases}\n",
    "x_{1}+2x_{2}+5x_{3}=4, \\\\\n",
    "3x_{1}+x_{2}-8x_{3}=-2. \n",
    "\\end{cases}$"
   ],
   "cell_type": "markdown",
   "metadata": {}
  },
  {
   "cell_type": "code",
   "execution_count": 4,
   "metadata": {},
   "outputs": [
    {
     "output_type": "stream",
     "name": "stdout",
     "text": [
      "rankA = 2\nrankAext = 2\n"
     ]
    }
   ],
   "source": [
    "A = np.array([\n",
    "    [1, 2, 5],\n",
    "    [3, 1, -8]\n",
    "])\n",
    "\n",
    "A_extended = np.array([\n",
    "    [*A[0], 4],\n",
    "    [*A[1], -2]\n",
    "])\n",
    "\n",
    "print('rankA =', np.linalg.matrix_rank(A)); print('rankAext =', np.linalg.matrix_rank(A_extended))"
   ]
  },
  {
   "source": [
    "$rankA=rank \\tilde A<n \\Rightarrow$ система имеет бесконечное количество решений"
   ],
   "cell_type": "markdown",
   "metadata": {}
  },
  {
   "source": [
    "__4.__ Дана система линейных уравнений, заданная расширенной матрицей\n",
    "\n",
    "$\\tilde{A}=\n",
    "\\begin{pmatrix}\n",
    "\\begin{matrix}\n",
    "1 & 2 & 3 \\\\\n",
    "4 & 5 & 6 \\\\\n",
    "7 & 8 & 9\n",
    "\\end{matrix}\n",
    "\\begin{matrix}\n",
    "| a \\\\ | b \\\\ | c\n",
    "\\end{matrix}\n",
    "\\end{pmatrix}\n",
    "$\n",
    "\n",
    "\n",
    "Найти соотношение между параметрами $a$, $b$ и $c$, при которых система является несовместной."
   ],
   "cell_type": "markdown",
   "metadata": {}
  },
  {
   "cell_type": "code",
   "execution_count": null,
   "metadata": {},
   "outputs": [],
   "source": []
  }
 ]
}