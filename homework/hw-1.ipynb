{
 "metadata": {
  "language_info": {
   "codemirror_mode": {
    "name": "ipython",
    "version": 3
   },
   "file_extension": ".py",
   "mimetype": "text/x-python",
   "name": "python",
   "nbconvert_exporter": "python",
   "pygments_lexer": "ipython3",
   "version": 3
  },
  "orig_nbformat": 2
 },
 "nbformat": 4,
 "nbformat_minor": 2,
 "cells": [
  {
   "source": [
    "__1.__ Исследовать на линейную зависимость:\n",
    "$$f_{1}(x)=e^{x}, f_{2}(x)=1, f_{3}(x)=x+1, f_{4}(x)=x-e^{x}.$$\n",
    "\n",
    "Ответ: линейно независимы."
   ],
   "cell_type": "markdown",
   "metadata": {}
  },
  {
   "source": [
    "__2.__ Исследовать на линейную зависимость:\n",
    "$$f_{1}(x)=2, f_{2}(x)=x, f_{3}(x)=x^{2}, f_{4}(x)=(x+1)^{2}.$$\n",
    "\n",
    "Ответ: линейно зависимы \n",
    "$$f_{4} = f_{3} + 2f_{2} + 0.5f_1{1}$$\n",
    "$$ (x+1)^2 = x^2 + 2x + 1$$\n"
   ],
   "cell_type": "markdown",
   "metadata": {}
  },
  {
   "source": [
    "__3.__ Найти координаты вектора $x = (2, 3, 5)\\in \\mathbb{R}^{3}$ в базисе $b_{1}=(0, 0, 10)$, $b_{2}=(2, 0, 0)$, $b_{3}=(0, 1, 0)$.\n",
    "\n",
    "Ответ: $$ x = (2, 3, 5) = (2, 0, 0) + (0, 3, 0) + (0, 0, 5) = 2*(2,0,0)+3*(0,1,0)+5*(0,0,10) = (4, 3, 50)$$"
   ],
   "cell_type": "markdown",
   "metadata": {}
  },
  {
   "source": [
    "__4.__ Найти координаты вектора $3x^{2}-2x+2\\in\\mathbb{R}^{3}[x]$:\n",
    "\n",
    "   а) в базисе $1$, $x$, $x^{2}$;\n",
    "   \n",
    "   Ответ: $(3,0,0)+(0,-2,0)+(0,0,2) = 3*(1,0,0)-2*(0,1,0)+2(0,0,1)=(3, -2, 2)$\n",
    "\n",
    "   б) в базисе $x^{2}$, $x-1$, $1$.\n",
    "\n",
    "   Ответ: $(3,0,0)+(0,-2,0)+(0,0,2) = 3*(1,0,0)-2*(0,-1,0)+2(0,0,1)=(3, 2, 2)$"
   ],
   "cell_type": "markdown",
   "metadata": {}
  },
  {
   "cell_type": "code",
   "execution_count": null,
   "metadata": {},
   "outputs": [],
   "source": []
  }
 ]
}