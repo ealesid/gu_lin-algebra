{
 "metadata": {
  "language_info": {
   "codemirror_mode": {
    "name": "ipython",
    "version": 3
   },
   "file_extension": ".py",
   "mimetype": "text/x-python",
   "name": "python",
   "nbconvert_exporter": "python",
   "pygments_lexer": "ipython3",
   "version": "3.7.2-final"
  },
  "orig_nbformat": 2,
  "kernelspec": {
   "name": "python37264bitvenvvirtualenv50c87fc0545744c9b271e5181bbfb5e5",
   "display_name": "Python 3.7.2 64-bit ('.venv': virtualenv)"
  }
 },
 "nbformat": 4,
 "nbformat_minor": 2,
 "cells": [
  {
   "cell_type": "code",
   "execution_count": 1,
   "metadata": {},
   "outputs": [],
   "source": [
    "import numpy as np"
   ]
  },
  {
   "source": [
    "__1.__ Установить, какие произведения матриц $AB$ и $BA$ определены, и найти размерности полученных матриц:\n",
    "\n",
    "   а) $A$ — матрица $4\\times 2$, $B$ — матрица $4\\times 2$;\n",
    "\n",
    "   Ответ: не определены ни $A \\cdot B$, ни $B \\cdot\\ A$ - $(rowsA \\neq colsB, colsA \\neq rowsB )$\n",
    "    \n",
    "   б) $A$ — матрица $2\\times 5$, $B$ — матрица $5\\times 3$;\n",
    "\n",
    "   Ответ: определено $A \\cdot B$ $(3 \\times 2)$ , $B \\cdot A$ не определено - $(colsB \\neq rowsA)$\n",
    "    \n",
    "   в) $A$ — матрица $8\\times 3$, $B$ — матрица $3\\times 8$;\n",
    "\n",
    "   Ответ: определены $A \\cdot B$ $(8 \\times 8)$ и $B \\cdot A$ $(3 \\times 3)$\n",
    "    \n",
    "   г) $A$ — квадратная матрица $4\\times 4$, $B$ — квадратная матрица $4\\times 4$.\n",
    "   \n",
    "   Ответ: определены $A \\cdot B$ и $B \\cdot A$ $(4 \\times 4)$\n"
   ],
   "cell_type": "markdown",
   "metadata": {}
  },
  {
   "source": [
    "__2.__ Найти сумму и произведение матриц $A=\\begin{pmatrix}\n",
    "1 & -2\\\\ \n",
    "3 & 0\n",
    "\\end{pmatrix}$ и $B=\\begin{pmatrix}\n",
    "4 & -1\\\\ \n",
    "0 & 5\n",
    "\\end{pmatrix}.$\n",
    "\n",
    "$A + B = \\begin{pmatrix}1+4 & -2-1\\\\ 3+0 & 0+5 \\end{pmatrix} = \\begin{pmatrix}5 & -3\\\\ 3& 5 \\end{pmatrix}$\n",
    "\n",
    "$A \\cdot B = \\begin{pmatrix}\n",
    "(1 \\cdot 4 + -2 \\cdot 0) & (1 \\cdot -1 + -2 \\cdot 5) \\\\\n",
    "(3 \\cdot 4 + 0 \\cdot 0) & (3 \\cdot -1 + 0 \\cdot 5)\n",
    "\\end{pmatrix} = \\begin{pmatrix}4 & -11 \\\\ 12 & -3 \\end{pmatrix}$\n"
   ],
   "cell_type": "markdown",
   "metadata": {}
  },
  {
   "cell_type": "code",
   "execution_count": 2,
   "metadata": {},
   "outputs": [
    {
     "output_type": "stream",
     "name": "stdout",
     "text": [
      "Sum=\n [[ 5 -3]\n [ 3  5]]\n\n\nMultiply=\n [[  4 -11]\n [ 12  -3]]\n"
     ]
    }
   ],
   "source": [
    "A = np.array([[1, -2], [3, 0]])\n",
    "B = np.array([[4, -1], [0, 5]])\n",
    "\n",
    "\n",
    "print('Sum=\\n', A + B); print('\\n\\nMultiply=\\n', np.dot(A, B))"
   ]
  },
  {
   "source": [
    "__3.__ Из закономерностей сложения и умножения матриц на число можно сделать вывод, что матрицы одного размера образуют линейное пространство. Вычислить линейную комбинацию $3A-2B+4C$ для матриц $A=\\begin{pmatrix}\n",
    "1 & 7\\\\ \n",
    "3 & -6\n",
    "\\end{pmatrix}$, $B=\\begin{pmatrix}\n",
    "0 & 5\\\\ \n",
    "2 & -1\n",
    "\\end{pmatrix}$, $C=\\begin{pmatrix}\n",
    "2 & -4\\\\ \n",
    "1 & 1\n",
    "\\end{pmatrix}.$\n",
    "\n",
    "$3A-2B+4C\n",
    "=\\begin{pmatrix} 3 & 21 \\\\ 9 & -18 \\end{pmatrix}\n",
    "-\\begin{pmatrix} 0 & 10 \\\\4 & -2 \\end{pmatrix}\n",
    "+\\begin{pmatrix} 8 & -16 \\\\ 4 & 4 \\end{pmatrix}\n",
    "=\\begin{pmatrix} 3-0+8 & 21-10-16 \\\\ 9-4+4 & -18+2+4 \\end{pmatrix}\n",
    "=\\begin{pmatrix} 11 & -5 \\\\ 9 & -12 \\end{pmatrix}\n",
    "$\n"
   ],
   "cell_type": "markdown",
   "metadata": {}
  },
  {
   "cell_type": "code",
   "execution_count": 3,
   "metadata": {},
   "outputs": [
    {
     "output_type": "stream",
     "name": "stdout",
     "text": [
      "3A=\n [[  3  21]\n [  9 -18]]\n\n\n2B=\n [[ 0 10]\n [ 4 -2]]\n\n\n4C=\n [[  8 -16]\n [  4   4]]\n\n\n3A-2B+4C=\n [[ 11  -5]\n [  9 -12]]\n"
     ]
    }
   ],
   "source": [
    "A = np.array([[1, 7], [3, -6]])\n",
    "B = np.array([[0, 5], [2, -1]])\n",
    "C = np.array([[2, -4], [1, 1]])\n",
    "\n",
    "print('3A=\\n', 3 * A); print('\\n\\n2B=\\n', 2 * B); print('\\n\\n4C=\\n', 4 *C); \n",
    "print('\\n\\n3A-2B+4C=\\n', 3 * A - 2 * B + 4 * C)"
   ]
  },
  {
   "source": [
    "__4.__ Дана матрица $A=\\begin{pmatrix}\n",
    "4 & 1\\\\ \n",
    "5 & -2\\\\ \n",
    "2 & 3\n",
    "\\end{pmatrix}$.\n",
    "Вычислить $AA^{T}$ и $A^{T}A$.\n",
    "\n",
    "$A^{T} = \\begin{pmatrix} 4 & 5 & 2 \\\\1 & -2 & 3 \\end{pmatrix}$\n",
    "\n",
    "$AA^{T}\n",
    "=\\begin{pmatrix}\n",
    "(4*4+1*1) & (4*5+1*-2) & (4*2+1*3) \\\\\n",
    "(5*4-2*1) & (5*5+-2*-2) & (5*2-2*3) \\\\\n",
    "(2*4+3*1) & (2*5-2*3) & (2*2+3*3)\n",
    " \\end{pmatrix}\n",
    " =\\begin{pmatrix}\n",
    "17 & 18 & 11 \\\\ 18 & 29 & 4 \\\\ 11 & 4 & 13\n",
    " \\end{pmatrix}\n",
    "$\n",
    "\n",
    "$A^{T}A=\n",
    "\\begin{pmatrix}\n",
    "(4*4+5*5+2*2) & (4*1-5*2+2*3) \\\\\n",
    "(1*4-2*5+3*2) & (1*1+-2*-2+3*3)\n",
    "\\end{pmatrix}\n",
    "=\\begin{pmatrix}\n",
    "45 & 0 \\\\ 0 & 14\n",
    "\\end{pmatrix}\n",
    "$"
   ],
   "cell_type": "markdown",
   "metadata": {}
  },
  {
   "cell_type": "code",
   "execution_count": 4,
   "metadata": {},
   "outputs": [
    {
     "output_type": "stream",
     "name": "stdout",
     "text": [
      "A*A_T=\n [[17 18 11]\n [18 29  4]\n [11  4 13]]\n\n\nA_T*A=\n [[45  0]\n [ 0 14]]\n"
     ]
    }
   ],
   "source": [
    "A = np.array([[4, 1], [5, -2], [2, 3]])\n",
    "\n",
    "print('A*A_T=\\n', np.dot(A, A.T)); print('\\n\\nA_T*A=\\n', np.dot(A.T, A)); "
   ]
  },
  {
   "source": [
    "__5*.__ Написать на Python функцию для перемножения двух произвольных матриц, не используя NumPy."
   ],
   "cell_type": "markdown",
   "metadata": {}
  },
  {
   "cell_type": "code",
   "execution_count": 5,
   "metadata": {},
   "outputs": [
    {
     "output_type": "stream",
     "name": "stdout",
     "text": [
      "A * A_T = [[17, 18, 11], [18, 29, 4], [11, 4, 13]]\nA_T * A =  [[45, 0], [0, 14]]\n"
     ]
    }
   ],
   "source": [
    "from typing import List\n",
    "\n",
    "def multiply_matrix(a: List[List[float]], b: List[List[float]]):\n",
    "\n",
    "    if len(a[0]) != len(b):\n",
    "        return -1\n",
    "\n",
    "    result = []\n",
    "    for row, items in enumerate(a):\n",
    "        result.append([])\n",
    "        for column_id in range(len(a)):\n",
    "            summ = 0\n",
    "            for row_id, item in enumerate(items):\n",
    "                summ += item * b[row_id][column_id]\n",
    "            result[row].append(summ)\n",
    "    \n",
    "    return result\n",
    "\n",
    "A = [[4, 1], [5, -2], [2, 3]]\n",
    "A_T = [[4, 5, 2], [1, -2, 3]]\n",
    "\n",
    "print('A * A_T =', multiply_matrix(A, A_T))\n",
    "print('A_T * A = ', multiply_matrix(A_T, A))\n"
   ]
  },
  {
   "cell_type": "code",
   "execution_count": null,
   "metadata": {},
   "outputs": [],
   "source": []
  }
 ]
}